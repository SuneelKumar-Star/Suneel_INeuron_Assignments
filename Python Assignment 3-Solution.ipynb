{
 "cells": [
  {
   "cell_type": "markdown",
   "id": "2c0027bb",
   "metadata": {},
   "source": [
    "## 1.1"
   ]
  },
  {
   "cell_type": "code",
   "execution_count": 3,
   "id": "b264506e",
   "metadata": {},
   "outputs": [
    {
     "name": "stdout",
     "output_type": "stream",
     "text": [
      "Output with original reduce function:  72\n",
      "Output with custom myreduce function:  72\n"
     ]
    }
   ],
   "source": [
    "from functools import reduce\n",
    "\n",
    "def Substract(n1,n2):\n",
    "    return n1-n2\n",
    "\n",
    "valueList=[100, 3,2,1, 9,6,7]\n",
    "print(\"Output with original reduce function: \", reduce(Substract, valueList))\n",
    "\n",
    "#creating custom myreduce function\n",
    "def myreduce(function, sequence):\n",
    "    #first element\n",
    "    first_element=sequence[0]\n",
    "    #Iterate from second element\n",
    "    for next_element in sequence[1:]:\n",
    "        first_element=function(first_element, next_element)\n",
    "    return first_element\n",
    "\n",
    "print(\"Output with custom myreduce function: \", myreduce(Substract, valueList))"
   ]
  },
  {
   "cell_type": "markdown",
   "id": "d7af6275",
   "metadata": {},
   "source": [
    "## 1.2"
   ]
  },
  {
   "cell_type": "code",
   "execution_count": 5,
   "id": "0985e316",
   "metadata": {},
   "outputs": [
    {
     "name": "stdout",
     "output_type": "stream",
     "text": [
      "Output with original filter function:  [1, 3, 5, 7, 9, 11, 13]\n",
      "Output with custom myfilter function:  [1, 3, 5, 7, 9, 11, 13]\n"
     ]
    }
   ],
   "source": [
    "def odd_number(no):\n",
    "    if no%2==0:\n",
    "        return False\n",
    "    else:\n",
    "        return True\n",
    "    \n",
    "nolist=[1,2,3,4,5,6,7,8,9,10,11,12,13]\n",
    "\n",
    "print(\"Output with original filter function: \", list(filter(odd_number, nolist)))\n",
    "\n",
    "#Custom filter\n",
    "def myfilter(function, sequence):\n",
    "    new_list=[]\n",
    "    for element in sequence:\n",
    "        if function(element)==True:\n",
    "            #Insert in the list\n",
    "            new_list.append(element)\n",
    "    return new_list\n",
    "\n",
    "print(\"Output with custom myfilter function: \", list(myfilter(odd_number,nolist)))\n",
    "    \n",
    "    "
   ]
  },
  {
   "cell_type": "markdown",
   "id": "ee8a57c3",
   "metadata": {},
   "source": [
    "## 2"
   ]
  },
  {
   "cell_type": "code",
   "execution_count": 9,
   "id": "74027161",
   "metadata": {},
   "outputs": [
    {
     "name": "stdout",
     "output_type": "stream",
     "text": [
      "['x', 'y', 'z'] <--------> ['x', 'xx', 'xxx', 'xxxx', 'y', 'yy', 'yyy', 'yyyy', 'z', 'zz', 'zzz', 'zzzz']\n"
     ]
    }
   ],
   "source": [
    "\n",
    "baselist=['x','y','z']\n",
    "newlist=[element*number for element in baselist for number in range(1,5)]\n",
    "print(baselist, \"<-------->\", newlist)"
   ]
  },
  {
   "cell_type": "code",
   "execution_count": 10,
   "id": "703b8d53",
   "metadata": {},
   "outputs": [
    {
     "name": "stdout",
     "output_type": "stream",
     "text": [
      "['x', 'y', 'z'] <--------> ['x', 'y', 'z', 'xx', 'yy', 'zz', 'xxx', 'yyy', 'zzz', 'xxxx', 'yyyy', 'zzzz']\n"
     ]
    }
   ],
   "source": [
    "\n",
    "newlist=[element*number for number in range(1, 5) for element in baselist]\n",
    "print(baselist,\"<-------->\", newlist)"
   ]
  },
  {
   "cell_type": "code",
   "execution_count": 11,
   "id": "3993e5b9",
   "metadata": {},
   "outputs": [
    {
     "name": "stdout",
     "output_type": "stream",
     "text": [
      "[3, 4, 5, 7, 89] <--------> [[3, 4, 5, 7, 89], [4, 5, 6, 8, 90], [5, 6, 7, 9, 91], [6, 7, 8, 10, 92]]\n"
     ]
    }
   ],
   "source": [
    "numlist=[3,4,5,7,89,]\n",
    "newlist=[[element+number for element in numlist] for number in range(4)]\n",
    "print(numlist, \"<-------->\",newlist)"
   ]
  },
  {
   "cell_type": "code",
   "execution_count": 12,
   "id": "2c68e58a",
   "metadata": {},
   "outputs": [
    {
     "name": "stdout",
     "output_type": "stream",
     "text": [
      "[5, 6, 7, 8, 9] <--------> [(5, 5), (6, 5), (7, 5), (8, 5), (9, 5), (5, 6), (6, 6), (7, 6), (8, 6), (9, 6), (5, 7), (6, 7), (7, 7), (8, 7), (9, 7), (5, 8), (6, 8), (7, 8), (8, 8), (9, 8), (5, 9), (6, 9), (7, 9), (8, 9), (9, 9)]\n"
     ]
    }
   ],
   "source": [
    "numlist=[5,6,7,8,9]\n",
    "newlist=[(element,number) for number in numlist for element in numlist]\n",
    "print(numlist, \"<-------->\",newlist)"
   ]
  },
  {
   "cell_type": "code",
   "execution_count": null,
   "id": "3e32020c",
   "metadata": {},
   "outputs": [],
   "source": []
  }
 ],
 "metadata": {
  "kernelspec": {
   "display_name": "Python 3",
   "language": "python",
   "name": "python3"
  },
  "language_info": {
   "codemirror_mode": {
    "name": "ipython",
    "version": 3
   },
   "file_extension": ".py",
   "mimetype": "text/x-python",
   "name": "python",
   "nbconvert_exporter": "python",
   "pygments_lexer": "ipython3",
   "version": "3.8.8"
  }
 },
 "nbformat": 4,
 "nbformat_minor": 5
}
