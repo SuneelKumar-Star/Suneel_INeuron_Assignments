{
 "cells": [
  {
   "cell_type": "code",
   "execution_count": 3,
   "id": "7e1697e0",
   "metadata": {},
   "outputs": [],
   "source": [
    "import scipy.stats as sts\n",
    "from scipy.stats import norm\n",
    "import math\n",
    "import numpy as np"
   ]
  },
  {
   "cell_type": "markdown",
   "id": "128d4150",
   "metadata": {},
   "source": [
    "## Problem Statement 1:"
   ]
  },
  {
   "cell_type": "code",
   "execution_count": 4,
   "id": "0fb8a55c",
   "metadata": {},
   "outputs": [
    {
     "name": "stdout",
     "output_type": "stream",
     "text": [
      "SE: 2.5\n",
      "Z_score: 3.2\n"
     ]
    }
   ],
   "source": [
    "p_mean=100\n",
    "p_std=15\n",
    "n=36\n",
    "sample_mean=108\n",
    "alpha=0.05\n",
    "\n",
    "SE=p_std/n**0.5\n",
    "print(f\"SE: {SE}\")\n",
    "Z=(sample_mean-p_mean)/SE\n",
    "print(f\"Z_score: {Z}\")\n",
    "\n",
    "#By looking at z- table, p-value associated with 3.20 is 0.9993\n",
    "#The probability of having less than 108 is 0.9993 and more than or equals to 108 is (1-0.9993)=0.0007\n",
    "\n",
    "#Step-4: Since the probablity of having mean glucose level is more than or equals to 108 is 0.0007 which is less than 0.05.\n",
    "#So we will reject the null hypothesis. i.e., there is raw cornstarch effect."
   ]
  },
  {
   "cell_type": "markdown",
   "id": "525e1dca",
   "metadata": {},
   "source": [
    "## Problem Statement 2:"
   ]
  },
  {
   "cell_type": "code",
   "execution_count": 5,
   "id": "c3aeea0d",
   "metadata": {},
   "outputs": [
    {
     "name": "stdout",
     "output_type": "stream",
     "text": [
      "mu: 0.050000000000000044\n",
      "std: 0.07061869440877536\n",
      "Z_p1_p2 : -0.7080278164104213\n"
     ]
    }
   ],
   "source": [
    "n1=100\n",
    "n2=100\n",
    "R1=0.52              #Republicans from state 1\n",
    "D1=0.48              #Democrats from state 1\n",
    "R2=0.47              #Republicans from state 2            \n",
    "D2=0.53              #Democrats from state 2\n",
    "\n",
    "mu=R1-R2\n",
    "print(f\"mu: {mu}\")\n",
    "std=math.sqrt(((R1*D1)/n1)+((R2*D2)/n2))\n",
    "print(f\"std: {std}\")\n",
    "\n",
    "#This problem requires us to find the probability that p1 is less than p2.\n",
    "#This is equivalent to finding the probability that R1 -R2<0.\n",
    "x=0\n",
    "\n",
    "#To find this probability, we need to transform the random variable (R1-R2) into a z-score.\n",
    "#That transformation appears below.\n",
    "\n",
    "Z_R1_R2= (x-mu)/std\n",
    "print(f\"Z_p1_p2 : {Z_R1_R2}\")\n",
    "\n",
    "#From Z table, we find that the probability of a z-score being -0.7082 or less is 0.24.\n",
    "\n",
    "#Therefore, the probability that the survey will show a greater percentage of republican voters.\n",
    "#in the second state than in the first state is 0.24."
   ]
  },
  {
   "cell_type": "markdown",
   "id": "7696210c",
   "metadata": {},
   "source": [
    "## Problem Statement 3:"
   ]
  },
  {
   "cell_type": "code",
   "execution_count": 6,
   "id": "64754b2c",
   "metadata": {},
   "outputs": [
    {
     "name": "stdout",
     "output_type": "stream",
     "text": [
      "Z Score :  0.35406698564593303\n",
      "My score is in the range 817 - 1235 with a z score 0.35\n"
     ]
    }
   ],
   "source": [
    "#The z score tells you how many standard deviations from th mean your score is\n",
    "x=1100\n",
    "mu=1026 # Population mean\n",
    "sd=209  # Population standard deviation\n",
    "z=(x-mu)/sd\n",
    "print(\"Z Score : \", z)\n",
    "#The above calculation shows that my score is 0.35 standard deviations above the mean.\n",
    "print(\"My score is in the range {} - {} with a z score {:.2f}\".format(mu-sd, mu+sd,z))"
   ]
  },
  {
   "cell_type": "code",
   "execution_count": null,
   "id": "ebcd2776",
   "metadata": {},
   "outputs": [],
   "source": []
  },
  {
   "cell_type": "code",
   "execution_count": null,
   "id": "8e1a788f",
   "metadata": {},
   "outputs": [],
   "source": []
  },
  {
   "cell_type": "code",
   "execution_count": null,
   "id": "8766de91",
   "metadata": {},
   "outputs": [],
   "source": []
  }
 ],
 "metadata": {
  "kernelspec": {
   "display_name": "Python 3 (ipykernel)",
   "language": "python",
   "name": "python3"
  },
  "language_info": {
   "codemirror_mode": {
    "name": "ipython",
    "version": 3
   },
   "file_extension": ".py",
   "mimetype": "text/x-python",
   "name": "python",
   "nbconvert_exporter": "python",
   "pygments_lexer": "ipython3",
   "version": "3.8.8"
  }
 },
 "nbformat": 4,
 "nbformat_minor": 5
}
