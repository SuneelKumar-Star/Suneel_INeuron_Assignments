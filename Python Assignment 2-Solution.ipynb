{
 "cells": [
  {
   "cell_type": "markdown",
   "id": "6b069542",
   "metadata": {},
   "source": [
    "## 1"
   ]
  },
  {
   "cell_type": "code",
   "execution_count": 2,
   "id": "e35eaada",
   "metadata": {},
   "outputs": [
    {
     "name": "stdout",
     "output_type": "stream",
     "text": [
      "\n",
      "* \n",
      "* * \n",
      "* * * \n",
      "* * * * \n",
      "* * * * * \n",
      "* * * * \n",
      "* * * \n",
      "* * \n",
      "* \n"
     ]
    }
   ],
   "source": [
    "number=5\n",
    "for l in range(number):\n",
    "    for m in range(l):\n",
    "        print('* ', end=\"\")\n",
    "    print('')\n",
    "    \n",
    "for l in range(number,0,-1):\n",
    "    for m in range(l):\n",
    "        print('* ', end=\"\")\n",
    "    print('')"
   ]
  },
  {
   "cell_type": "markdown",
   "id": "4d66839c",
   "metadata": {},
   "source": [
    "More Efficient"
   ]
  },
  {
   "cell_type": "code",
   "execution_count": 4,
   "id": "edbfcb4a",
   "metadata": {},
   "outputs": [
    {
     "name": "stdout",
     "output_type": "stream",
     "text": [
      "\n",
      "* \n",
      "* * \n",
      "* * * \n",
      "* * * * \n",
      "* * * * * \n",
      "* * * * \n",
      "* * * \n",
      "* * \n",
      "* \n"
     ]
    }
   ],
   "source": [
    "number=10\n",
    "for l in range(0,10):\n",
    "    if l<=5:\n",
    "        print('* '*(l))\n",
    "    elif l>5:\n",
    "        print('* '*(number-l))        \n"
   ]
  },
  {
   "cell_type": "markdown",
   "id": "b00744b4",
   "metadata": {},
   "source": [
    "## 2"
   ]
  },
  {
   "cell_type": "code",
   "execution_count": 5,
   "id": "b846a7fd",
   "metadata": {},
   "outputs": [
    {
     "name": "stdout",
     "output_type": "stream",
     "text": [
      "write something to reverse:Suneel\n",
      "leenuS\n"
     ]
    }
   ],
   "source": [
    "print(input('write something to reverse:')[::-1])"
   ]
  }
 ],
 "metadata": {
  "kernelspec": {
   "display_name": "Python 3",
   "language": "python",
   "name": "python3"
  },
  "language_info": {
   "codemirror_mode": {
    "name": "ipython",
    "version": 3
   },
   "file_extension": ".py",
   "mimetype": "text/x-python",
   "name": "python",
   "nbconvert_exporter": "python",
   "pygments_lexer": "ipython3",
   "version": "3.8.8"
  }
 },
 "nbformat": 4,
 "nbformat_minor": 5
}
