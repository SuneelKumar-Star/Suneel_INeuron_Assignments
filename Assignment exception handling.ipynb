{
 "cells": [
  {
   "cell_type": "markdown",
   "id": "f50f30db",
   "metadata": {},
   "source": [
    "1."
   ]
  },
  {
   "cell_type": "markdown",
   "id": "44f7a1ee",
   "metadata": {},
   "source": [
    "github.com/darkprinx/break-the-ice-with-python/blob/master/Status/Day_14.md\n",
    "My Solution: Python 3- Slightly Modified"
   ]
  },
  {
   "cell_type": "code",
   "execution_count": 4,
   "id": "2f9b3094",
   "metadata": {},
   "outputs": [
    {
     "name": "stdout",
     "output_type": "stream",
     "text": [
      "Generic exception\n",
      "Cleanup in finally block\n"
     ]
    }
   ],
   "source": [
    "def throws():\n",
    "    return 5/0\n",
    "\n",
    "try:\n",
    "    divide()\n",
    "except ZeroDivisionError as zdException:\n",
    "    print ('Division by zero error!')\n",
    "except:\n",
    "    print ('Generic exception')\n",
    "finally:\n",
    "    print ('Cleanup in finally block')"
   ]
  },
  {
   "cell_type": "markdown",
   "id": "2e2b143a",
   "metadata": {},
   "source": [
    "2."
   ]
  },
  {
   "cell_type": "code",
   "execution_count": null,
   "id": "e8ed8319",
   "metadata": {},
   "outputs": [],
   "source": []
  }
 ],
 "metadata": {
  "kernelspec": {
   "display_name": "Python 3 (ipykernel)",
   "language": "python",
   "name": "python3"
  },
  "language_info": {
   "codemirror_mode": {
    "name": "ipython",
    "version": 3
   },
   "file_extension": ".py",
   "mimetype": "text/x-python",
   "name": "python",
   "nbconvert_exporter": "python",
   "pygments_lexer": "ipython3",
   "version": "3.8.8"
  }
 },
 "nbformat": 4,
 "nbformat_minor": 5
}
