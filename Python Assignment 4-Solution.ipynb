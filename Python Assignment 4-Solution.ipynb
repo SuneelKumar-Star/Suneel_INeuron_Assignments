{
 "cells": [
  {
   "cell_type": "markdown",
   "id": "39023e77",
   "metadata": {},
   "source": [
    "## 1.1"
   ]
  },
  {
   "cell_type": "code",
   "execution_count": 5,
   "id": "bd8d801c",
   "metadata": {},
   "outputs": [
    {
     "name": "stdout",
     "output_type": "stream",
     "text": [
      "Enter length of sides with space : 3 4 5\n",
      "Area of the triangle is :  6.0\n"
     ]
    }
   ],
   "source": [
    "class LengthOfSides:\n",
    "    def __init__(this, side1, side2, side3):\n",
    "        this.side1, this.side2, this.side3=[float(side) for side in input(\"Enter length of sides with space : \").split()]\n",
    "        \n",
    "class Triangle(LengthOfSides):\n",
    "    def __init__(this, side1, side2, side3):\n",
    "        LengthOfSides.__init__(this, side1, side2, side3)\n",
    "        \n",
    "    def AreaOfTriangle(this):\n",
    "        s=(this.side1+this.side2+this.side3)/2\n",
    "        return ((s*(s-this.side1)*(s-this.side2)*(s-this.side3)))**0.5\n",
    "    \n",
    "myTriangle=Triangle(0,0,0)\n",
    "print(\"Area of the triangle is : \", myTriangle.AreaOfTriangle())\n",
    "\n"
   ]
  },
  {
   "cell_type": "markdown",
   "id": "3a3d1bdb",
   "metadata": {},
   "source": [
    "## 1.2"
   ]
  },
  {
   "cell_type": "code",
   "execution_count": 7,
   "id": "e7ad937f",
   "metadata": {},
   "outputs": [
    {
     "data": {
      "text/plain": [
       "['Suneel', 'Sekhar', 'Genius', 'sure']"
      ]
     },
     "execution_count": 7,
     "metadata": {},
     "output_type": "execute_result"
    }
   ],
   "source": [
    "def filter_long_words(listOfWords, number):\n",
    "    return list(filter(lambda element: len(element) > number, listOfWords))\n",
    "\n",
    "\n",
    "testList = [\"Suneel\", \"Sekhar\", \"is\", \"a\", \"Genius\", \"for\", \"sure\"]\n",
    "filter_long_words(testList, 3)"
   ]
  },
  {
   "cell_type": "markdown",
   "id": "d9ea917b",
   "metadata": {},
   "source": [
    "## 2.1"
   ]
  },
  {
   "cell_type": "code",
   "execution_count": 10,
   "id": "a34c5b26",
   "metadata": {},
   "outputs": [
    {
     "data": {
      "text/plain": [
       "[6, 6, 2, 1, 6, 3, 4]"
      ]
     },
     "execution_count": 10,
     "metadata": {},
     "output_type": "execute_result"
    }
   ],
   "source": [
    "def length(listOfWords):\n",
    "    return list(map(lambda element: len(element), listOfWords))\n",
    "\n",
    "length(testList)"
   ]
  },
  {
   "cell_type": "markdown",
   "id": "e0f63324",
   "metadata": {},
   "source": [
    "2.2 Write a Python function which takes a character (i.e. a string of length 1) and returns True if\n",
    "it is a vowel, False otherwise."
   ]
  },
  {
   "cell_type": "code",
   "execution_count": 12,
   "id": "a9b4cb79",
   "metadata": {},
   "outputs": [
    {
     "name": "stdout",
     "output_type": "stream",
     "text": [
      "Enter c character : a\n",
      "Is a a vowel?:  True\n"
     ]
    }
   ],
   "source": [
    "def IsVowel(charValue):\n",
    "    vowelList=[\"a\",\"e\",\"i\",\"o\",\"u\"]\n",
    "    if len(charValue)>1:\n",
    "        print(\"Please enter only one character\")\n",
    "    elif charValue in vowelList:\n",
    "        return True\n",
    "    else:\n",
    "        return False\n",
    "    \n",
    "charValue=input(\"Enter c character : \")\n",
    "newCharacter=charValue.lower()\n",
    "\n",
    "print(\"Is {} a vowel?: \".format(charValue), IsVowel(newCharacter))"
   ]
  },
  {
   "cell_type": "code",
   "execution_count": null,
   "id": "c310eeab",
   "metadata": {},
   "outputs": [],
   "source": []
  }
 ],
 "metadata": {
  "kernelspec": {
   "display_name": "Python 3",
   "language": "python",
   "name": "python3"
  },
  "language_info": {
   "codemirror_mode": {
    "name": "ipython",
    "version": 3
   },
   "file_extension": ".py",
   "mimetype": "text/x-python",
   "name": "python",
   "nbconvert_exporter": "python",
   "pygments_lexer": "ipython3",
   "version": "3.8.8"
  }
 },
 "nbformat": 4,
 "nbformat_minor": 5
}
